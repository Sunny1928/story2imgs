{
 "cells": [
  {
   "cell_type": "code",
   "execution_count": 31,
   "metadata": {},
   "outputs": [
    {
     "data": {
      "application/vnd.jupyter.widget-view+json": {
       "model_id": "b9d5a43de39b4c66a8e17247baf7d5d2",
       "version_major": 2,
       "version_minor": 0
      },
      "text/plain": [
       "Downloading:   0%|          | 0.00/2.20G [00:00<?, ?B/s]"
      ]
     },
     "metadata": {},
     "output_type": "display_data"
    },
    {
     "name": "stderr",
     "output_type": "stream",
     "text": [
      "06/26/2023 22:11:35 - INFO - \t missing_keys: []\n",
      "06/26/2023 22:11:35 - INFO - \t unexpected_keys: []\n",
      "06/26/2023 22:11:35 - INFO - \t mismatched_keys: []\n",
      "06/26/2023 22:11:35 - INFO - \t error_msgs: []\n",
      "06/26/2023 22:11:35 - INFO - \t Model Parameters: 590.0M, Transformer: 434.6M, Coref head: 155.4M\n"
     ]
    }
   ],
   "source": [
    "from fastcoref import LingMessCoref\n",
    "model = LingMessCoref()"
   ]
  },
  {
   "cell_type": "code",
   "execution_count": 32,
   "metadata": {},
   "outputs": [],
   "source": [
    "f = open('story/story1.txt')\n",
    "text = f.read()\n",
    "f.close\n",
    "example = text"
   ]
  },
  {
   "cell_type": "code",
   "execution_count": 33,
   "metadata": {},
   "outputs": [
    {
     "name": "stderr",
     "output_type": "stream",
     "text": [
      "06/26/2023 22:11:49 - INFO - \t Tokenize 1 inputs...\n"
     ]
    },
    {
     "data": {
      "application/vnd.jupyter.widget-view+json": {
       "model_id": "c9a146d12b364d6c8283c46171b72f25",
       "version_major": 2,
       "version_minor": 0
      },
      "text/plain": [
       "Map:   0%|          | 0/1 [00:00<?, ? examples/s]"
      ]
     },
     "metadata": {},
     "output_type": "display_data"
    },
    {
     "name": "stderr",
     "output_type": "stream",
     "text": [
      "06/26/2023 22:11:50 - INFO - \t ***** Running Inference on 1 texts *****\n"
     ]
    },
    {
     "data": {
      "application/vnd.jupyter.widget-view+json": {
       "model_id": "1516a26d2e48498390fcffae93a62cbf",
       "version_major": 2,
       "version_minor": 0
      },
      "text/plain": [
       "Inference:   0%|          | 0/1 [00:00<?, ?it/s]"
      ]
     },
     "metadata": {},
     "output_type": "display_data"
    },
    {
     "name": "stdout",
     "output_type": "stream",
     "text": [
      "my (10, 12)\n",
      "my (32, 34)\n",
      "I (40, 41)\n",
      "me (120, 122)\n",
      "me (141, 143)\n",
      "I (145, 146)\n",
      "my (217, 219)\n",
      "I (247, 248)\n",
      "I (286, 287)\n",
      "I (315, 316)\n",
      "me (352, 354)\n",
      "me (364, 366)\n",
      "I (391, 392)\n",
      "me (419, 421)\n",
      "I (466, 467)\n",
      "I (499, 500)\n",
      "I (673, 674)\n",
      "I (729, 730)\n",
      "I (794, 795)\n",
      "I (839, 840)\n",
      "my (856, 858)\n",
      "I (1000, 1001)\n",
      "I (1022, 1023)\n",
      "I (1050, 1051)\n",
      "I (1070, 1071)\n",
      "my (1079, 1081)\n",
      "I (1131, 1132)\n",
      "I (1169, 1170)\n",
      "I (1232, 1233)\n",
      "me (1296, 1298)\n",
      "me (1310, 1312)\n",
      "I (1315, 1316)\n",
      "I (1331, 1332)\n",
      "me (1391, 1393)\n",
      "my (1421, 1423)\n",
      "I (1446, 1447)\n",
      "me (1487, 1489)\n",
      "I (1598, 1599)\n",
      "I (1641, 1642)\n",
      "me (1688, 1690)\n",
      "I (1777, 1778)\n",
      "I (1804, 1805)\n",
      "my (1811, 1813)\n",
      "I (1887, 1888)\n",
      "me (1940, 1942)\n",
      "I (1948, 1949)\n",
      "I (1981, 1982)\n",
      "I (2034, 2035)\n",
      "I (2069, 2070)\n",
      "I (2090, 2091)\n",
      "I (2122, 2123)\n",
      "I (2160, 2161)\n",
      "me (2289, 2291)\n",
      "I (2294, 2295)\n",
      "I (2337, 2338)\n",
      "I (2395, 2396)\n",
      "I (2426, 2427)\n",
      "me (2485, 2487)\n",
      "me (2737, 2739)\n",
      "me (2796, 2798)\n",
      "I (2804, 2805)\n",
      "I (2831, 2832)\n",
      "I (2857, 2858)\n",
      "I (2892, 2893)\n",
      "me (2965, 2967)\n",
      "my (2972, 2974)\n",
      "I (3086, 3087)\n",
      "I (3105, 3106)\n",
      "myself (3111, 3117)\n",
      "my (3150, 3152)\n",
      "I (3237, 3238)\n",
      "me (3279, 3281)\n",
      "I (3287, 3288)\n",
      "me (3351, 3353)\n",
      "I (3359, 3360)\n",
      "me (3415, 3417)\n",
      "I (3427, 3428)\n",
      "my (3485, 3487)\n",
      "I (3495, 3496)\n",
      "me (3518, 3520)\n",
      "a new student (321, 334)\n",
      "She (337, 340)\n",
      "her (367, 370)\n",
      "her (398, 401)\n",
      "Mary (442, 446)\n",
      "She (457, 460)\n",
      "Mary (513, 517)\n",
      "Mary (826, 830)\n",
      "Mary (1095, 1099)\n",
      "Mary (1266, 1270)\n",
      "Mary (1349, 1353)\n",
      "She (1367, 1370)\n",
      "Mary (1629, 1633)\n",
      "her (1649, 1652)\n",
      "she (1657, 1660)\n",
      "she (1679, 1682)\n",
      "she (1719, 1722)\n",
      "Mary (2359, 2363)\n",
      "She (2366, 2369)\n",
      "her (2402, 2405)\n",
      "her (2435, 2438)\n",
      "Mary (2463, 2467)\n",
      "She (2490, 2493)\n",
      "her (2501, 2504)\n",
      "her (2524, 2527)\n",
      "Mary (2850, 2854)\n",
      "Mary (2877, 2881)\n",
      "her (2911, 2914)\n",
      "her (3436, 3439)\n",
      "Mary (3440, 3444)\n",
      "Mary (3451, 3455)\n",
      "the most popular girl at school, Jessica (159, 199)\n",
      "Jessica's (542, 551)\n",
      "Jessica (598, 605)\n",
      "her (663, 666)\n",
      "Jessica (698, 705)\n",
      "she (746, 749)\n",
      "Jessica (3533, 3540)\n",
      "suspicious pills (522, 538)\n",
      "the pills (650, 659)\n",
      "Jessica's backpack (542, 560)\n",
      "her bag (663, 670)\n",
      "we (912, 914)\n",
      "we both (949, 956)\n",
      "a handsome boy (919, 933)\n",
      "him (972, 975)\n",
      "the boy (983, 990)\n",
      "him (1017, 1020)\n",
      "him (1125, 1128)\n",
      "the boy Mary ended up with (1258, 1284)\n",
      "the boy who kissed me at the party (1468, 1502)\n",
      "him (1552, 1555)\n",
      "he (1559, 1561)\n",
      "the boy (1728, 1735)\n",
      "he (1745, 1747)\n",
      "the couch (1179, 1188)\n",
      "it (1205, 1207)\n",
      "a party (937, 944)\n",
      "the party (1493, 1502)\n",
      "someone (1537, 1544)\n",
      "it (1622, 1624)\n",
      "turned (1864, 1870)\n",
      "it (1976, 1978)\n",
      "the light (1875, 1884)\n",
      "the light (2102, 2111)\n",
      "the locker room door (2138, 2158)\n",
      "it (2171, 2173)\n",
      "the hallway (1995, 2006)\n",
      "the hallway (2265, 2276)\n",
      "her books (2524, 2533)\n",
      "them (2543, 2547)\n",
      "the school (2237, 2247)\n",
      "the school (2615, 2625)\n",
      "the school (2757, 2767)\n",
      "the school (3059, 3069)\n",
      "the fire (2580, 2588)\n",
      "the fire (2693, 2701)\n",
      "One of the witnesses (2704, 2724)\n",
      "he (2730, 2732)\n",
      "the inspectors (2775, 2789)\n",
      "them (2838, 2842)\n",
      "the police (2947, 2957)\n",
      "They (3010, 3014)\n",
      "a recording from a camera across from the school (3021, 3069)\n",
      "it (3081, 3083)\n",
      "the tape (3121, 3129)\n",
      "her backpack (2501, 2513)\n",
      "my backpack (3150, 3161)\n",
      "books (3137, 3142)\n",
      "them (3171, 3175)\n",
      "them (3190, 3194)\n",
      "a psychologist (3259, 3273)\n",
      "She (3342, 3345)\n"
     ]
    }
   ],
   "source": [
    "preds = model.predict(\n",
    " texts=[example]\n",
    ")\n",
    "\n",
    "position = preds[0].get_clusters(as_strings=False)\n",
    "name = preds[0].get_clusters()\n",
    "for i in range(len(position)):\n",
    "    for j in range(len(name[i])):\n",
    "        print(name[i][j], position[i][j])"
   ]
  },
  {
   "cell_type": "code",
   "execution_count": 34,
   "metadata": {},
   "outputs": [
    {
     "name": "stdout",
     "output_type": "stream",
     "text": [
      "['my', 'my', 'I', 'me', 'me', 'I', 'my', 'I', 'I', 'I', 'me', 'me', 'I', 'me', 'I', 'I', 'I', 'I', 'I', 'I', 'my', 'I', 'I', 'I', 'I', 'my', 'I', 'I', 'I', 'me', 'me', 'I', 'I', 'me', 'my', 'I', 'me', 'I', 'I', 'me', 'I', 'I', 'my', 'I', 'me', 'I', 'I', 'I', 'I', 'I', 'I', 'I', 'me', 'I', 'I', 'I', 'I', 'me', 'me', 'me', 'I', 'I', 'I', 'I', 'me', 'my', 'I', 'I', 'myself', 'my', 'I', 'me', 'I', 'me', 'I', 'me', 'I', 'my', 'I', 'me'] [(10, 12), (32, 34), (40, 41), (120, 122), (141, 143), (145, 146), (217, 219), (247, 248), (286, 287), (315, 316), (352, 354), (364, 366), (391, 392), (419, 421), (466, 467), (499, 500), (673, 674), (729, 730), (794, 795), (839, 840), (856, 858), (1000, 1001), (1022, 1023), (1050, 1051), (1070, 1071), (1079, 1081), (1131, 1132), (1169, 1170), (1232, 1233), (1296, 1298), (1310, 1312), (1315, 1316), (1331, 1332), (1391, 1393), (1421, 1423), (1446, 1447), (1487, 1489), (1598, 1599), (1641, 1642), (1688, 1690), (1777, 1778), (1804, 1805), (1811, 1813), (1887, 1888), (1940, 1942), (1948, 1949), (1981, 1982), (2034, 2035), (2069, 2070), (2090, 2091), (2122, 2123), (2160, 2161), (2289, 2291), (2294, 2295), (2337, 2338), (2395, 2396), (2426, 2427), (2485, 2487), (2737, 2739), (2796, 2798), (2804, 2805), (2831, 2832), (2857, 2858), (2892, 2893), (2965, 2967), (2972, 2974), (3086, 3087), (3105, 3106), (3111, 3117), (3150, 3152), (3237, 3238), (3279, 3281), (3287, 3288), (3351, 3353), (3359, 3360), (3415, 3417), (3427, 3428), (3485, 3487), (3495, 3496), (3518, 3520)]\n",
      "['a new student', 'She', 'her', 'her', 'Mary', 'She', 'Mary', 'Mary', 'Mary', 'Mary', 'Mary', 'She', 'Mary', 'her', 'she', 'she', 'she', 'Mary', 'She', 'her', 'her', 'Mary', 'She', 'her', 'her', 'Mary', 'Mary', 'her', 'her', 'Mary', 'Mary'] [(321, 334), (337, 340), (367, 370), (398, 401), (442, 446), (457, 460), (513, 517), (826, 830), (1095, 1099), (1266, 1270), (1349, 1353), (1367, 1370), (1629, 1633), (1649, 1652), (1657, 1660), (1679, 1682), (1719, 1722), (2359, 2363), (2366, 2369), (2402, 2405), (2435, 2438), (2463, 2467), (2490, 2493), (2501, 2504), (2524, 2527), (2850, 2854), (2877, 2881), (2911, 2914), (3436, 3439), (3440, 3444), (3451, 3455)]\n",
      "['the most popular girl at school, Jessica', \"Jessica's\", 'Jessica', 'her', 'Jessica', 'she', 'Jessica'] [(159, 199), (542, 551), (598, 605), (663, 666), (698, 705), (746, 749), (3533, 3540)]\n",
      "['suspicious pills', 'the pills'] [(522, 538), (650, 659)]\n",
      "[\"Jessica's backpack\", 'her bag'] [(542, 560), (663, 670)]\n",
      "['we', 'we both'] [(912, 914), (949, 956)]\n",
      "['a handsome boy', 'him', 'the boy', 'him', 'him', 'the boy Mary ended up with', 'the boy who kissed me at the party', 'him', 'he', 'the boy', 'he'] [(919, 933), (972, 975), (983, 990), (1017, 1020), (1125, 1128), (1258, 1284), (1468, 1502), (1552, 1555), (1559, 1561), (1728, 1735), (1745, 1747)]\n",
      "['the couch', 'it'] [(1179, 1188), (1205, 1207)]\n",
      "['a party', 'the party'] [(937, 944), (1493, 1502)]\n",
      "['someone', 'it'] [(1537, 1544), (1622, 1624)]\n",
      "['turned', 'it'] [(1864, 1870), (1976, 1978)]\n",
      "['the light', 'the light'] [(1875, 1884), (2102, 2111)]\n",
      "['the locker room door', 'it'] [(2138, 2158), (2171, 2173)]\n",
      "['the hallway', 'the hallway'] [(1995, 2006), (2265, 2276)]\n",
      "['her books', 'them'] [(2524, 2533), (2543, 2547)]\n",
      "['the school', 'the school', 'the school', 'the school'] [(2237, 2247), (2615, 2625), (2757, 2767), (3059, 3069)]\n",
      "['the fire', 'the fire'] [(2580, 2588), (2693, 2701)]\n",
      "['One of the witnesses', 'he'] [(2704, 2724), (2730, 2732)]\n",
      "['the inspectors', 'them'] [(2775, 2789), (2838, 2842)]\n",
      "['the police', 'They'] [(2947, 2957), (3010, 3014)]\n",
      "['a recording from a camera across from the school', 'it', 'the tape'] [(3021, 3069), (3081, 3083), (3121, 3129)]\n",
      "['her backpack', 'my backpack'] [(2501, 2513), (3150, 3161)]\n",
      "['books', 'them', 'them'] [(3137, 3142), (3171, 3175), (3190, 3194)]\n",
      "['a psychologist', 'She'] [(3259, 3273), (3342, 3345)]\n"
     ]
    }
   ],
   "source": [
    "for i in range(len(position)):\n",
    "    print(name[i], position[i])"
   ]
  },
  {
   "cell_type": "code",
   "execution_count": 29,
   "metadata": {},
   "outputs": [
    {
     "name": "stderr",
     "output_type": "stream",
     "text": [
      "06/26/2023 22:07:39 - INFO - \t missing_keys: []\n",
      "06/26/2023 22:07:39 - INFO - \t unexpected_keys: []\n",
      "06/26/2023 22:07:39 - INFO - \t mismatched_keys: []\n",
      "06/26/2023 22:07:39 - INFO - \t error_msgs: []\n",
      "06/26/2023 22:07:39 - INFO - \t Model Parameters: 90.5M, Transformer: 82.1M, Coref head: 8.4M\n",
      "06/26/2023 22:07:40 - INFO - \t Tokenize 1 inputs...\n"
     ]
    },
    {
     "data": {
      "application/vnd.jupyter.widget-view+json": {
       "model_id": "5ba3c94b26034c61a5871891b06a96d1",
       "version_major": 2,
       "version_minor": 0
      },
      "text/plain": [
       "Map:   0%|          | 0/1 [00:00<?, ? examples/s]"
      ]
     },
     "metadata": {},
     "output_type": "display_data"
    },
    {
     "name": "stderr",
     "output_type": "stream",
     "text": [
      "06/26/2023 22:07:40 - INFO - \t ***** Running Inference on 1 texts *****\n"
     ]
    },
    {
     "data": {
      "application/vnd.jupyter.widget-view+json": {
       "model_id": "e006e1fe5cf644b6b2b20780c82783d0",
       "version_major": 2,
       "version_minor": 0
      },
      "text/plain": [
       "Inference:   0%|          | 0/1 [00:00<?, ?it/s]"
      ]
     },
     "metadata": {},
     "output_type": "display_data"
    },
    {
     "data": {
      "text/plain": [
       "\"\\ufeffHi guys.\\nmy name is Tina. \\nAll my life I have been shy and have struggled with self-esteem. \\nThe kids at school teased me and were cruel to me.\\nI was 14 when the most popular girl at school, Jessica, poured juice on my head. \\nEveryone laughed as I cried in the bathroom, ashamed.\\nWhen I returned to the classroom, I saw a new student. \\na new student approached me and told me a new student's name was Mary.\\nWhen I told a new student what happened to me that day at school, a new student frowned. \\na new student said I should take revenge. \\nAlthough I had doubts, a new student put suspicious pills in the most popular girl at school, Jessica's backpack the next day and called the police. \\nthe most popular girl at school, Jessica was in shock when two police officers found suspicious pills in the most popular girl at school, Jessica's bag. \\nI was a little sorry for the most popular girl at school, Jessica, but at the same time, I was happy that the most popular girl at school, Jessica realized what it was like to be humiliated.\\nI spent more and more time with a new student. \\nWhile I was still shy, my best friend was wild and free-spirited. \\nOne evening we saw a handsome boy at a party and we both had a crush on a handsome boy. \\nWhen a handsome boy asked if I wanted to kiss a handsome boy, I blushed and ran away. \\nAs I was running away, I turned my head and saw a new student going into the room with a handsome boy. \\nI didn't think much of it, though, so I went to the couch, leaned back on the couch, and fell asleep. \\nWhen I woke up in the morning, the boy a new student ended up with approached me and kissed me. \\nI was shocked. \\nI decided to tell a new student about this. \\na new student was pissed, telling me not to worry and it wasn't my fault. \\nThe next day, I heard the news that the boy who kissed me at a party was in the hospital. \\nSupposedly, someone pushed a handsome boy as a handsome boy went down the steps to the subway. \\nI knew immediately that it was a new student. \\nWhen I asked a new student why a new student did such a thing, a new student told me to calm down. \\nAnd smiling, a new student said a handsome boy got what a handsome boy deserved. \\nAfter a few days, I was in the locker room. \\nI took my clothes off and took a shower. \\nSuddenly, someone turned off the light. \\nI knew it was one of the mean girls doing a prank on me, but I had to do something about it. \\nI peeked into the hallway, holding a towel, and when I was sure there was no one there, I went to the fuse. \\nI turned on the light, but when I tried to open the locker room door, I realized the locker room door was locked. \\nThe school bell rang and suddenly all the kids in school were standing in the hallway laughing at me. \\nI felt anger, standing naked and ashamed. \\nI ran outside and saw a new student. \\na new student turned into a devil when I told a new student what had happened. \\nI begged a new student not to do anything, but a new student didn't listen to me. \\na new student opened a new student's backpack, took out a new student's books, and lit her books with a match. \\nWithin a minute, the fire started spreading through school. \\nFortunately, firefighters arrived quickly and managed to put out the fire. \\nOne of the witnesses said One of the witnesses saw me standing outside school. \\nWhen the inspectors asked me what I knew about the accident, I told the inspectors it was a new student. \\nI didn't know where a new student lived, so I gave the officer a new student's description. \\nAfter a few days, the police called me and my mom to come to the police station.\\nthe police found a recording from a camera across from school and played a recording from a camera across from the school. \\nI was shocked when I saw myself on a recording from a camera across from the school taking books out of my backpack, burning books, and throwing books through the school door. \\nWhat the hell? \\nI was speechless when a psychologist told me that I was suffering from a multiple personality disorder. \\na psychologist told me that I created a character that was the complete opposite of me and that I called a character that was the complete opposite of me Mary. \\nSo, a new student never even existed except in my head. \\nI realized that it was me who accused the most popular girl at school, Jessica of using and pushing a handsome boy down the stairs.\""
      ]
     },
     "execution_count": 29,
     "metadata": {},
     "output_type": "execute_result"
    }
   ],
   "source": [
    "from fastcoref import spacy_component\n",
    "import spacy\n",
    "\n",
    "\n",
    "# text = 'Alice goes down the rabbit hole. Where she would discover a new reality beyond her expectations.'\n",
    "\n",
    "nlp = spacy.load(\"en_core_web_sm\")\n",
    "nlp.add_pipe(\"fastcoref\")\n",
    "\n",
    "doc = nlp(text, component_cfg={\"fastcoref\": {'resolve_text': True}})\n",
    "doc._.resolved_text"
   ]
  }
 ],
 "metadata": {
  "kernelspec": {
   "display_name": "env_tf",
   "language": "python",
   "name": "python3"
  },
  "language_info": {
   "codemirror_mode": {
    "name": "ipython",
    "version": 3
   },
   "file_extension": ".py",
   "mimetype": "text/x-python",
   "name": "python",
   "nbconvert_exporter": "python",
   "pygments_lexer": "ipython3",
   "version": "3.9.16"
  },
  "orig_nbformat": 4
 },
 "nbformat": 4,
 "nbformat_minor": 2
}

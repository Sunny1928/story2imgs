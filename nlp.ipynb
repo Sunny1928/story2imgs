{
 "cells": [
  {
   "cell_type": "code",
   "execution_count": 1,
   "metadata": {},
   "outputs": [],
   "source": [
    "from transformers import AutoTokenizer, AutoModelForTokenClassification\n",
    "from transformers import pipeline\n",
    "import numpy as np"
   ]
  },
  {
   "cell_type": "code",
   "execution_count": 2,
   "metadata": {},
   "outputs": [],
   "source": [
    "f = open('story.txt')\n",
    "text = f.read()\n",
    "# print(text)\n",
    "f.close\n",
    "\n",
    "example = text"
   ]
  },
  {
   "cell_type": "markdown",
   "metadata": {},
   "source": [
    "### NER"
   ]
  },
  {
   "cell_type": "code",
   "execution_count": 3,
   "metadata": {},
   "outputs": [],
   "source": [
    "tokenizer = AutoTokenizer.from_pretrained(\"Babelscape/wikineural-multilingual-ner\")\n",
    "model = AutoModelForTokenClassification.from_pretrained(\"Babelscape/wikineural-multilingual-ner\")\n",
    "\n",
    "nlp = pipeline(\"ner\", model=model, tokenizer=tokenizer)"
   ]
  },
  {
   "cell_type": "code",
   "execution_count": 4,
   "metadata": {},
   "outputs": [
    {
     "name": "stdout",
     "output_type": "stream",
     "text": [
      "['Mirror' 'Snow White']\n"
     ]
    }
   ],
   "source": [
    "ner_results = nlp(example)\n",
    "\n",
    "last_index = -1\n",
    "names = []\n",
    "name = \"\"\n",
    "\n",
    "for enity in ner_results:\n",
    "    # print(enity)\n",
    "\n",
    "    if enity['index'] == last_index+1:\n",
    "        name = name + ' ' + enity['word']\n",
    "    else:    \n",
    "        if name!='':\n",
    "            names.append(name)\n",
    "        name = enity['word']\n",
    "    \n",
    "    last_index = enity['index']\n",
    "\n",
    "    \n",
    "print(np.unique(names))"
   ]
  },
  {
   "cell_type": "markdown",
   "metadata": {},
   "source": [
    "### SUMMARIZATION"
   ]
  },
  {
   "cell_type": "code",
   "execution_count": null,
   "metadata": {},
   "outputs": [],
   "source": [
    "summarizer = pipeline(\"summarization\", model=\"philschmid/bart-large-cnn-samsum\")"
   ]
  },
  {
   "cell_type": "code",
   "execution_count": null,
   "metadata": {},
   "outputs": [],
   "source": [
    "times = int(len(example)/3000)\n",
    "sums = ''\n",
    "\n",
    "for i in range(times+1):\n",
    "    sum_results = summarizer(example[3000*i:3000*(i+1)])\n",
    "    sums = sums + sum_results[0]['summary_text'] + ' '\n",
    "    \n",
    "print(sums)"
   ]
  },
  {
   "cell_type": "code",
   "execution_count": null,
   "metadata": {},
   "outputs": [],
   "source": []
  }
 ],
 "metadata": {
  "kernelspec": {
   "display_name": "Python 3 (ipykernel)",
   "language": "python",
   "name": "python3"
  },
  "language_info": {
   "codemirror_mode": {
    "name": "ipython",
    "version": 3
   },
   "file_extension": ".py",
   "mimetype": "text/x-python",
   "name": "python",
   "nbconvert_exporter": "python",
   "pygments_lexer": "ipython3",
   "version": "3.11.3"
  }
 },
 "nbformat": 4,
 "nbformat_minor": 4
}

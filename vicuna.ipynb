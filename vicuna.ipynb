{
 "cells": [
  {
   "cell_type": "code",
   "execution_count": 2,
   "metadata": {},
   "outputs": [
    {
     "ename": "NameError",
     "evalue": "name 'AutoGPTQForCausalLM' is not defined",
     "output_type": "error",
     "traceback": [
      "\u001b[0;31m---------------------------------------------------------------------------\u001b[0m",
      "\u001b[0;31mNameError\u001b[0m                                 Traceback (most recent call last)",
      "Cell \u001b[0;32mIn[2], line 8\u001b[0m\n\u001b[1;32m      5\u001b[0m model_id \u001b[39m=\u001b[39m \u001b[39m\"\u001b[39m\u001b[39mTheBloke/vicuna-7B-1.1-GPTQ-4bit-128g\u001b[39m\u001b[39m\"\u001b[39m\n\u001b[1;32m      6\u001b[0m model_basename\u001b[39m=\u001b[39m\u001b[39m\"\u001b[39m\u001b[39mvicuna-7B-1.1-GPTQ-4bit-128g.no-act-order\u001b[39m\u001b[39m\"\u001b[39m\n\u001b[0;32m----> 8\u001b[0m model \u001b[39m=\u001b[39m AutoGPTQForCausalLM\u001b[39m.\u001b[39mfrom_quantized(model_id,device\u001b[39m=\u001b[39m\u001b[39m\"\u001b[39m\u001b[39mcuda:0\u001b[39m\u001b[39m\"\u001b[39m,use_safetensors\u001b[39m=\u001b[39m\u001b[39mFalse\u001b[39;00m, quantize_config\u001b[39m=\u001b[39m\u001b[39mNone\u001b[39;00m, model_basename\u001b[39m=\u001b[39mmodel_basename)\n\u001b[1;32m     10\u001b[0m tokenizer \u001b[39m=\u001b[39m AutoTokenizer\u001b[39m.\u001b[39mfrom_pretrained(model_id, use_fast\u001b[39m=\u001b[39m\u001b[39mTrue\u001b[39;00m)\n\u001b[1;32m     13\u001b[0m pipeline \u001b[39m=\u001b[39m TextGenerationPipeline(model\u001b[39m=\u001b[39mmodel, tokenizer\u001b[39m=\u001b[39mtokenizer, device\u001b[39m=\u001b[39m\u001b[39m\"\u001b[39m\u001b[39mcuda:0\u001b[39m\u001b[39m\"\u001b[39m , max_new_tokens \u001b[39m=\u001b[39m \u001b[39m150\u001b[39m)\n",
      "\u001b[0;31mNameError\u001b[0m: name 'AutoGPTQForCausalLM' is not defined"
     ]
    }
   ],
   "source": [
    "from auto_gptq import AutoGPTQForCausalLM, BaseQuantizeConfig\n",
    "from transformers import AutoTokenizer, logging, pipeline\n",
    "from transformers import TextGenerationPipeline\n",
    "\n",
    "model_id = \"TheBloke/vicuna-7B-1.1-GPTQ-4bit-128g\"\n",
    "model_basename=\"vicuna-7B-1.1-GPTQ-4bit-128g.no-act-order\"\n",
    "\n",
    "model = AutoGPTQForCausalLM.from_quantized(model_id,device=\"cuda:0\",use_safetensors=False, quantize_config=None, model_basename=model_basename)\n",
    "\n",
    "tokenizer = AutoTokenizer.from_pretrained(model_id, use_fast=True)\n",
    "\n",
    "\n",
    "pipeline = TextGenerationPipeline(model=model, tokenizer=tokenizer, device=\"cuda:0\" , max_new_tokens = 150)"
   ]
  }
 ],
 "metadata": {
  "kernelspec": {
   "display_name": "base",
   "language": "python",
   "name": "python3"
  },
  "language_info": {
   "codemirror_mode": {
    "name": "ipython",
    "version": 3
   },
   "file_extension": ".py",
   "mimetype": "text/x-python",
   "name": "python",
   "nbconvert_exporter": "python",
   "pygments_lexer": "ipython3",
   "version": "3.9.16"
  },
  "orig_nbformat": 4
 },
 "nbformat": 4,
 "nbformat_minor": 2
}
